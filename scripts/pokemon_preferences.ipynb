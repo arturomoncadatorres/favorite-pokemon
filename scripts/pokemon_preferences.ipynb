{
 "cells": [
  {
   "cell_type": "markdown",
   "metadata": {},
   "source": [
    "<img src=\"../images/pokeball.png\" width=\"100\" align=\"right\">\n",
    "\n",
    "# Visualization of the<br> Favorite Pok&eacute;mon Survey Results\n",
    "---\n",
    "In this notebook, I will generate different visualizations of the [Favorite Pok&eacute;mon Survey](<https://www.reddit.com/r/pokemon/comments/c04rvq/survey_testing_the_every_pok%C3%A9mon_is_someones/>) results. The data was collected and made public by [reddit user mamamia1001](https://www.reddit.com/user/mamamia1001/). Full credit goes to him/her. For more info, take a look at the [README file](../README.md). \n",
    "\n",
    "Furthermore, I will be including a few comments on the results and how I interpret them. You can find these all through the notebook <font color='blue' style=\"font-weight:bold\">in blue</font>.\n",
    "\n",
    "Alright, let's get started.\n"
   ]
  },
  {
   "cell_type": "markdown",
   "metadata": {},
   "source": [
    "# Preliminaries\n",
    "First, let's import all the relevant packages, configure some plotting options, and define some basic (path) variables."
   ]
  },
  {
   "cell_type": "code",
   "execution_count": 2,
   "metadata": {},
   "outputs": [],
   "source": [
    "%matplotlib inline\n",
    "\n",
    "import pandas as pd\n",
    "import numpy as np\n",
    "import matplotlib as mpl\n",
    "import matplotlib.pyplot as plt\n",
    "import pathlib"
   ]
  },
  {
   "cell_type": "code",
   "execution_count": 3,
   "metadata": {},
   "outputs": [],
   "source": [
    "mpl.rcParams['font.sans-serif'] = \"Calibri\"\n",
    "mpl.rcParams['font.family'] = \"sans-serif\"\n",
    "#sns.set(font_scale=1.75)\n",
    "#sns.set_style('ticks')\n",
    "plt.rc('axes.spines', top=False, right=False)"
   ]
  },
  {
   "cell_type": "code",
   "execution_count": 4,
   "metadata": {},
   "outputs": [],
   "source": [
    "# Define paths.\n",
    "PATH_DATA = pathlib.Path(r'../data')"
   ]
  },
  {
   "cell_type": "markdown",
   "metadata": {},
   "source": [
    "# Read data\n",
    "I [downloaded a copy](../data) of the [original results](https://docs.google.com/spreadsheets/d/1c16Wh4AawHGbTi3Eq1DGZQdM4FMUlJO1YwXJZ_ylRvg/edit#gid=557303698) as an Excel file. Let's read just the relevant parts:"
   ]
  },
  {
   "cell_type": "code",
   "execution_count": 5,
   "metadata": {},
   "outputs": [
    {
     "data": {
      "text/html": [
       "<div>\n",
       "<style scoped>\n",
       "    .dataframe tbody tr th:only-of-type {\n",
       "        vertical-align: middle;\n",
       "    }\n",
       "\n",
       "    .dataframe tbody tr th {\n",
       "        vertical-align: top;\n",
       "    }\n",
       "\n",
       "    .dataframe thead th {\n",
       "        text-align: right;\n",
       "    }\n",
       "</style>\n",
       "<table border=\"1\" class=\"dataframe\">\n",
       "  <thead>\n",
       "    <tr style=\"text-align: right;\">\n",
       "      <th></th>\n",
       "      <th>timestamp</th>\n",
       "      <th>vote</th>\n",
       "    </tr>\n",
       "  </thead>\n",
       "  <tbody>\n",
       "    <tr>\n",
       "      <th>0</th>\n",
       "      <td>2019-06-13 13:02:02.242</td>\n",
       "      <td>Munchlax</td>\n",
       "    </tr>\n",
       "    <tr>\n",
       "      <th>1</th>\n",
       "      <td>2019-06-13 12:44:00.726</td>\n",
       "      <td>Type-Null</td>\n",
       "    </tr>\n",
       "    <tr>\n",
       "      <th>2</th>\n",
       "      <td>2019-06-13 12:44:45.607</td>\n",
       "      <td>Giratina</td>\n",
       "    </tr>\n",
       "  </tbody>\n",
       "</table>\n",
       "</div>"
      ],
      "text/plain": [
       "                timestamp       vote\n",
       "0 2019-06-13 13:02:02.242   Munchlax\n",
       "1 2019-06-13 12:44:00.726  Type-Null\n",
       "2 2019-06-13 12:44:45.607   Giratina"
      ]
     },
     "execution_count": 5,
     "metadata": {},
     "output_type": "execute_result"
    }
   ],
   "source": [
    "df_raw = pd.read_excel(PATH_DATA/'responses.xlsx', sheet_name='Form Responses 1')\n",
    "df_raw.rename(columns={'Timestamp':'timestamp', 'What is your favourite Pokémon?':'vote'}, inplace=True)\n",
    "\n",
    "# Remove any potential NaN.\n",
    "df_raw.dropna(inplace=True)\n",
    "\n",
    "df_raw.head(3)"
   ]
  },
  {
   "cell_type": "code",
   "execution_count": 6,
   "metadata": {},
   "outputs": [
    {
     "data": {
      "text/html": [
       "<div>\n",
       "<style scoped>\n",
       "    .dataframe tbody tr th:only-of-type {\n",
       "        vertical-align: middle;\n",
       "    }\n",
       "\n",
       "    .dataframe tbody tr th {\n",
       "        vertical-align: top;\n",
       "    }\n",
       "\n",
       "    .dataframe thead th {\n",
       "        text-align: right;\n",
       "    }\n",
       "</style>\n",
       "<table border=\"1\" class=\"dataframe\">\n",
       "  <thead>\n",
       "    <tr style=\"text-align: right;\">\n",
       "      <th></th>\n",
       "      <th>name</th>\n",
       "      <th>votes</th>\n",
       "      <th>type</th>\n",
       "      <th>generation</th>\n",
       "      <th>family</th>\n",
       "    </tr>\n",
       "  </thead>\n",
       "  <tbody>\n",
       "    <tr>\n",
       "      <th>1</th>\n",
       "      <td>Bulbasaur</td>\n",
       "      <td>710.0</td>\n",
       "      <td>Grass Poison</td>\n",
       "      <td>1.0</td>\n",
       "      <td>Bulbasaur</td>\n",
       "    </tr>\n",
       "    <tr>\n",
       "      <th>2</th>\n",
       "      <td>Ivysaur</td>\n",
       "      <td>83.0</td>\n",
       "      <td>Grass Poison</td>\n",
       "      <td>1.0</td>\n",
       "      <td>Bulbasaur</td>\n",
       "    </tr>\n",
       "    <tr>\n",
       "      <th>3</th>\n",
       "      <td>Venusaur</td>\n",
       "      <td>127.0</td>\n",
       "      <td>Grass Poison</td>\n",
       "      <td>1.0</td>\n",
       "      <td>Bulbasaur</td>\n",
       "    </tr>\n",
       "  </tbody>\n",
       "</table>\n",
       "</div>"
      ],
      "text/plain": [
       "        name  votes          type  generation     family\n",
       "1  Bulbasaur  710.0  Grass Poison         1.0  Bulbasaur\n",
       "2    Ivysaur   83.0  Grass Poison         1.0  Bulbasaur\n",
       "3   Venusaur  127.0  Grass Poison         1.0  Bulbasaur"
      ]
     },
     "execution_count": 6,
     "metadata": {},
     "output_type": "execute_result"
    }
   ],
   "source": [
    "df = pd.read_excel(PATH_DATA/'responses.xlsx', sheet_name='Results', usecols='A:E')\n",
    "df.rename(columns={'Results in full':'name', 'Unnamed: 1':'votes', 'Unnamed: 2':'type', 'Unnamed: 3':'generation', 'Unnamed: 4':'family'}, inplace=True)\n",
    "\n",
    "# Shift the index by 1, so that it matches the Pokemon number.\n",
    "df.index = df.index + 1\n",
    "\n",
    "# Remove any potential NaN.\n",
    "df.dropna(inplace=True)\n",
    "\n",
    "df.head(3)"
   ]
  },
  {
   "cell_type": "markdown",
   "metadata": {},
   "source": [
    "# Original Analysis\n",
    "As a sanity check, let's (re)compute the already reported numbers.\n",
    "\n",
    "### Number of valid votes\n",
    "Original result: 52725\n",
    "\n",
    "From the raw results:"
   ]
  },
  {
   "cell_type": "code",
   "execution_count": 7,
   "metadata": {},
   "outputs": [
    {
     "name": "stdout",
     "output_type": "stream",
     "text": [
      "52725\n"
     ]
    }
   ],
   "source": [
    "n_votes = len(df_raw)\n",
    "print(n_votes)"
   ]
  },
  {
   "cell_type": "markdown",
   "metadata": {},
   "source": [
    "From the aggregated results:"
   ]
  },
  {
   "cell_type": "code",
   "execution_count": 8,
   "metadata": {},
   "outputs": [
    {
     "name": "stdout",
     "output_type": "stream",
     "text": [
      "52725.0\n"
     ]
    }
   ],
   "source": [
    "n_votes = df['votes'].sum()\n",
    "print(n_votes)"
   ]
  },
  {
   "cell_type": "markdown",
   "metadata": {},
   "source": [
    "### Average votes per Pok&eacute;mon\n",
    "Original result: 65"
   ]
  },
  {
   "cell_type": "code",
   "execution_count": 9,
   "metadata": {},
   "outputs": [
    {
     "name": "stdout",
     "output_type": "stream",
     "text": [
      "65.17305315203956\n"
     ]
    }
   ],
   "source": [
    "n_pokemon = len(df['name'].unique())\n",
    "print(n_votes/n_pokemon)"
   ]
  },
  {
   "cell_type": "markdown",
   "metadata": {},
   "source": [
    "### Average votes per Pok&eacute;mon per generation"
   ]
  },
  {
   "cell_type": "code",
   "execution_count": 10,
   "metadata": {},
   "outputs": [
    {
     "data": {
      "text/html": [
       "<div>\n",
       "<style scoped>\n",
       "    .dataframe tbody tr th:only-of-type {\n",
       "        vertical-align: middle;\n",
       "    }\n",
       "\n",
       "    .dataframe tbody tr th {\n",
       "        vertical-align: top;\n",
       "    }\n",
       "\n",
       "    .dataframe thead th {\n",
       "        text-align: right;\n",
       "    }\n",
       "</style>\n",
       "<table border=\"1\" class=\"dataframe\">\n",
       "  <thead>\n",
       "    <tr style=\"text-align: right;\">\n",
       "      <th></th>\n",
       "      <th>votes</th>\n",
       "    </tr>\n",
       "    <tr>\n",
       "      <th>generation</th>\n",
       "      <th></th>\n",
       "    </tr>\n",
       "  </thead>\n",
       "  <tbody>\n",
       "    <tr>\n",
       "      <th>1.0</th>\n",
       "      <td>121.119205</td>\n",
       "    </tr>\n",
       "    <tr>\n",
       "      <th>2.0</th>\n",
       "      <td>91.150000</td>\n",
       "    </tr>\n",
       "    <tr>\n",
       "      <th>3.0</th>\n",
       "      <td>70.140741</td>\n",
       "    </tr>\n",
       "    <tr>\n",
       "      <th>4.0</th>\n",
       "      <td>70.383178</td>\n",
       "    </tr>\n",
       "    <tr>\n",
       "      <th>5.0</th>\n",
       "      <td>28.147436</td>\n",
       "    </tr>\n",
       "    <tr>\n",
       "      <th>6.0</th>\n",
       "      <td>29.916667</td>\n",
       "    </tr>\n",
       "    <tr>\n",
       "      <th>7.0</th>\n",
       "      <td>20.181818</td>\n",
       "    </tr>\n",
       "  </tbody>\n",
       "</table>\n",
       "</div>"
      ],
      "text/plain": [
       "                 votes\n",
       "generation            \n",
       "1.0         121.119205\n",
       "2.0          91.150000\n",
       "3.0          70.140741\n",
       "4.0          70.383178\n",
       "5.0          28.147436\n",
       "6.0          29.916667\n",
       "7.0          20.181818"
      ]
     },
     "execution_count": 10,
     "metadata": {},
     "output_type": "execute_result"
    }
   ],
   "source": [
    "df.groupby(['generation']).mean()"
   ]
  },
  {
   "cell_type": "markdown",
   "metadata": {},
   "source": [
    "It might be interesting to see this in a plot:"
   ]
  },
  {
   "cell_type": "code",
   "execution_count": 37,
   "metadata": {},
   "outputs": [
    {
     "data": {
      "image/png": "[encoded data removed]",
      "text/plain": [
       "<matplotlib.figure.Figure at 0x2536d1a45c0>"
      ]
     },
     "metadata": {},
     "output_type": "display_data"
    }
   ],
   "source": [
    "fig, ax = plt.subplots(1, 1, figsize=[5, 5])\n",
    "ax.plot(np.arange(1,7+1), df.groupby(['generation']).mean()['votes'], linewidth=5)\n",
    "ax.set_xlabel(\"Generation\", fontdict = {'fontsize':16})\n",
    "ax.set_ylabel(\"Average votes\", fontdict = {'fontsize':16})\n",
    "plt.show()"
   ]
  },
  {
   "cell_type": "markdown",
   "metadata": {},
   "source": [
    "This is a very interesting result. <font color='blue' style=\"font-weight:bold\">It seems that there is a much larger preference for Pok&eacute;mon of earlier generations. </font> Does nostalgia play an important role here? It is hard to say. It would be very interesting to have more information on the voters' profile (e.g., age). Unfortunately, we don't have those data.\n",
    "\n",
    "### Pok&eacute;mon ranking\n",
    "Sort Pok&eacute;mon from most to least popular:"
   ]
  },
  {
   "cell_type": "code",
   "execution_count": 11,
   "metadata": {},
   "outputs": [],
   "source": [
    "df_sorted = df.sort_values('votes', ascending=False)"
   ]
  },
  {
   "cell_type": "markdown",
   "metadata": {},
   "source": [
    "The top 10 (most popular) Pok&eacute;mon:"
   ]
  },
  {
   "cell_type": "code",
   "execution_count": 12,
   "metadata": {},
   "outputs": [
    {
     "data": {
      "text/html": [
       "<div>\n",
       "<style scoped>\n",
       "    .dataframe tbody tr th:only-of-type {\n",
       "        vertical-align: middle;\n",
       "    }\n",
       "\n",
       "    .dataframe tbody tr th {\n",
       "        vertical-align: top;\n",
       "    }\n",
       "\n",
       "    .dataframe thead th {\n",
       "        text-align: right;\n",
       "    }\n",
       "</style>\n",
       "<table border=\"1\" class=\"dataframe\">\n",
       "  <thead>\n",
       "    <tr style=\"text-align: right;\">\n",
       "      <th></th>\n",
       "      <th>name</th>\n",
       "      <th>votes</th>\n",
       "      <th>type</th>\n",
       "      <th>generation</th>\n",
       "      <th>family</th>\n",
       "    </tr>\n",
       "  </thead>\n",
       "  <tbody>\n",
       "    <tr>\n",
       "      <th>6</th>\n",
       "      <td>Charizard</td>\n",
       "      <td>1107.0</td>\n",
       "      <td>Fire Flying Dragon</td>\n",
       "      <td>1.0</td>\n",
       "      <td>Charmander</td>\n",
       "    </tr>\n",
       "    <tr>\n",
       "      <th>94</th>\n",
       "      <td>Gengar</td>\n",
       "      <td>1056.0</td>\n",
       "      <td>Ghost Poison</td>\n",
       "      <td>1.0</td>\n",
       "      <td>Gastly</td>\n",
       "    </tr>\n",
       "    <tr>\n",
       "      <th>59</th>\n",
       "      <td>Arcanine</td>\n",
       "      <td>923.0</td>\n",
       "      <td>Fire</td>\n",
       "      <td>1.0</td>\n",
       "      <td>Growlithe</td>\n",
       "    </tr>\n",
       "    <tr>\n",
       "      <th>1</th>\n",
       "      <td>Bulbasaur</td>\n",
       "      <td>710.0</td>\n",
       "      <td>Grass Poison</td>\n",
       "      <td>1.0</td>\n",
       "      <td>Bulbasaur</td>\n",
       "    </tr>\n",
       "    <tr>\n",
       "      <th>257</th>\n",
       "      <td>Blaziken</td>\n",
       "      <td>613.0</td>\n",
       "      <td>Fire Fighting</td>\n",
       "      <td>3.0</td>\n",
       "      <td>Torchic</td>\n",
       "    </tr>\n",
       "    <tr>\n",
       "      <th>197</th>\n",
       "      <td>Umbreon</td>\n",
       "      <td>607.0</td>\n",
       "      <td>Dark</td>\n",
       "      <td>2.0</td>\n",
       "      <td>Eevee</td>\n",
       "    </tr>\n",
       "    <tr>\n",
       "      <th>448</th>\n",
       "      <td>Lucario</td>\n",
       "      <td>604.0</td>\n",
       "      <td>Fighting Steel</td>\n",
       "      <td>4.0</td>\n",
       "      <td>Riolu</td>\n",
       "    </tr>\n",
       "    <tr>\n",
       "      <th>282</th>\n",
       "      <td>Gardevoir</td>\n",
       "      <td>585.0</td>\n",
       "      <td>Psychic Fairy</td>\n",
       "      <td>3.0</td>\n",
       "      <td>Ralts</td>\n",
       "    </tr>\n",
       "    <tr>\n",
       "      <th>133</th>\n",
       "      <td>Eevee</td>\n",
       "      <td>581.0</td>\n",
       "      <td>Normal</td>\n",
       "      <td>1.0</td>\n",
       "      <td>Eevee</td>\n",
       "    </tr>\n",
       "    <tr>\n",
       "      <th>149</th>\n",
       "      <td>Dragonite</td>\n",
       "      <td>551.0</td>\n",
       "      <td>Dragon Flying</td>\n",
       "      <td>1.0</td>\n",
       "      <td>Dratini</td>\n",
       "    </tr>\n",
       "  </tbody>\n",
       "</table>\n",
       "</div>"
      ],
      "text/plain": [
       "          name   votes                type  generation      family\n",
       "6    Charizard  1107.0  Fire Flying Dragon         1.0  Charmander\n",
       "94      Gengar  1056.0        Ghost Poison         1.0      Gastly\n",
       "59    Arcanine   923.0                Fire         1.0   Growlithe\n",
       "1    Bulbasaur   710.0        Grass Poison         1.0   Bulbasaur\n",
       "257   Blaziken   613.0       Fire Fighting         3.0     Torchic\n",
       "197    Umbreon   607.0                Dark         2.0       Eevee\n",
       "448    Lucario   604.0      Fighting Steel         4.0       Riolu\n",
       "282  Gardevoir   585.0       Psychic Fairy         3.0       Ralts\n",
       "133      Eevee   581.0              Normal         1.0       Eevee\n",
       "149  Dragonite   551.0       Dragon Flying         1.0     Dratini"
      ]
     },
     "execution_count": 12,
     "metadata": {},
     "output_type": "execute_result"
    }
   ],
   "source": [
    "df_sorted.head(10)"
   ]
  },
  {
   "cell_type": "markdown",
   "metadata": {},
   "source": [
    "The top 10 (most popular) Pok&eacute;mon *families*:"
   ]
  },
  {
   "cell_type": "code",
   "execution_count": 13,
   "metadata": {},
   "outputs": [
    {
     "data": {
      "text/html": [
       "<div>\n",
       "<style scoped>\n",
       "    .dataframe tbody tr th:only-of-type {\n",
       "        vertical-align: middle;\n",
       "    }\n",
       "\n",
       "    .dataframe tbody tr th {\n",
       "        vertical-align: top;\n",
       "    }\n",
       "\n",
       "    .dataframe thead th {\n",
       "        text-align: right;\n",
       "    }\n",
       "</style>\n",
       "<table border=\"1\" class=\"dataframe\">\n",
       "  <thead>\n",
       "    <tr style=\"text-align: right;\">\n",
       "      <th></th>\n",
       "      <th>votes</th>\n",
       "    </tr>\n",
       "    <tr>\n",
       "      <th>family</th>\n",
       "      <th></th>\n",
       "    </tr>\n",
       "  </thead>\n",
       "  <tbody>\n",
       "    <tr>\n",
       "      <th>Eevee</th>\n",
       "      <td>2865.0</td>\n",
       "    </tr>\n",
       "    <tr>\n",
       "      <th>Charmander</th>\n",
       "      <td>1551.0</td>\n",
       "    </tr>\n",
       "    <tr>\n",
       "      <th>Gastly</th>\n",
       "      <td>1384.0</td>\n",
       "    </tr>\n",
       "    <tr>\n",
       "      <th>Growlithe</th>\n",
       "      <td>1199.0</td>\n",
       "    </tr>\n",
       "    <tr>\n",
       "      <th>Cyndaquil</th>\n",
       "      <td>1092.0</td>\n",
       "    </tr>\n",
       "    <tr>\n",
       "      <th>Squirtle</th>\n",
       "      <td>1066.0</td>\n",
       "    </tr>\n",
       "    <tr>\n",
       "      <th>Ralts</th>\n",
       "      <td>924.0</td>\n",
       "    </tr>\n",
       "    <tr>\n",
       "      <th>Bulbasaur</th>\n",
       "      <td>920.0</td>\n",
       "    </tr>\n",
       "    <tr>\n",
       "      <th>Scyther</th>\n",
       "      <td>818.0</td>\n",
       "    </tr>\n",
       "    <tr>\n",
       "      <th>Mudkip</th>\n",
       "      <td>806.0</td>\n",
       "    </tr>\n",
       "  </tbody>\n",
       "</table>\n",
       "</div>"
      ],
      "text/plain": [
       "             votes\n",
       "family            \n",
       "Eevee       2865.0\n",
       "Charmander  1551.0\n",
       "Gastly      1384.0\n",
       "Growlithe   1199.0\n",
       "Cyndaquil   1092.0\n",
       "Squirtle    1066.0\n",
       "Ralts        924.0\n",
       "Bulbasaur    920.0\n",
       "Scyther      818.0\n",
       "Mudkip       806.0"
      ]
     },
     "execution_count": 13,
     "metadata": {},
     "output_type": "execute_result"
    }
   ],
   "source": [
    "df[['votes', 'family']].groupby(['family']).sum().sort_values('votes', ascending=False).head(10)"
   ]
  },
  {
   "cell_type": "markdown",
   "metadata": {},
   "source": [
    "The least popular Pok&eacute;mon. Those who received 0 votes:"
   ]
  },
  {
   "cell_type": "code",
   "execution_count": 14,
   "metadata": {},
   "outputs": [
    {
     "data": {
      "text/html": [
       "<div>\n",
       "<style scoped>\n",
       "    .dataframe tbody tr th:only-of-type {\n",
       "        vertical-align: middle;\n",
       "    }\n",
       "\n",
       "    .dataframe tbody tr th {\n",
       "        vertical-align: top;\n",
       "    }\n",
       "\n",
       "    .dataframe thead th {\n",
       "        text-align: right;\n",
       "    }\n",
       "</style>\n",
       "<table border=\"1\" class=\"dataframe\">\n",
       "  <thead>\n",
       "    <tr style=\"text-align: right;\">\n",
       "      <th></th>\n",
       "      <th>name</th>\n",
       "      <th>votes</th>\n",
       "      <th>type</th>\n",
       "      <th>generation</th>\n",
       "      <th>family</th>\n",
       "    </tr>\n",
       "  </thead>\n",
       "  <tbody>\n",
       "    <tr>\n",
       "      <th>574</th>\n",
       "      <td>Gothita</td>\n",
       "      <td>0.0</td>\n",
       "      <td>Psychic</td>\n",
       "      <td>5.0</td>\n",
       "      <td>Gothita</td>\n",
       "    </tr>\n",
       "    <tr>\n",
       "      <th>603</th>\n",
       "      <td>Eelektrik</td>\n",
       "      <td>0.0</td>\n",
       "      <td>Electric</td>\n",
       "      <td>5.0</td>\n",
       "      <td>Tynamo</td>\n",
       "    </tr>\n",
       "    <tr>\n",
       "      <th>266</th>\n",
       "      <td>Silcoon</td>\n",
       "      <td>0.0</td>\n",
       "      <td>Bug</td>\n",
       "      <td>3.0</td>\n",
       "      <td>Wurmple</td>\n",
       "    </tr>\n",
       "    <tr>\n",
       "      <th>734</th>\n",
       "      <td>Yungoos</td>\n",
       "      <td>0.0</td>\n",
       "      <td>Normal</td>\n",
       "      <td>7.0</td>\n",
       "      <td>Yungoos</td>\n",
       "    </tr>\n",
       "  </tbody>\n",
       "</table>\n",
       "</div>"
      ],
      "text/plain": [
       "          name  votes      type  generation   family\n",
       "574    Gothita    0.0   Psychic         5.0  Gothita\n",
       "603  Eelektrik    0.0  Electric         5.0   Tynamo\n",
       "266    Silcoon    0.0       Bug         3.0  Wurmple\n",
       "734    Yungoos    0.0    Normal         7.0  Yungoos"
      ]
     },
     "execution_count": 14,
     "metadata": {},
     "output_type": "execute_result"
    }
   ],
   "source": [
    "df_sorted.query('votes == 0')"
   ]
  },
  {
   "cell_type": "markdown",
   "metadata": {},
   "source": [
    "...and those who received 1 vote:"
   ]
  },
  {
   "cell_type": "code",
   "execution_count": 15,
   "metadata": {},
   "outputs": [
    {
     "data": {
      "text/html": [
       "<div>\n",
       "<style scoped>\n",
       "    .dataframe tbody tr th:only-of-type {\n",
       "        vertical-align: middle;\n",
       "    }\n",
       "\n",
       "    .dataframe tbody tr th {\n",
       "        vertical-align: top;\n",
       "    }\n",
       "\n",
       "    .dataframe thead th {\n",
       "        text-align: right;\n",
       "    }\n",
       "</style>\n",
       "<table border=\"1\" class=\"dataframe\">\n",
       "  <thead>\n",
       "    <tr style=\"text-align: right;\">\n",
       "      <th></th>\n",
       "      <th>name</th>\n",
       "      <th>votes</th>\n",
       "      <th>type</th>\n",
       "      <th>generation</th>\n",
       "      <th>family</th>\n",
       "    </tr>\n",
       "  </thead>\n",
       "  <tbody>\n",
       "    <tr>\n",
       "      <th>540</th>\n",
       "      <td>Sewaddle</td>\n",
       "      <td>1.0</td>\n",
       "      <td>Bug Grass</td>\n",
       "      <td>5.0</td>\n",
       "      <td>Sewaddle</td>\n",
       "    </tr>\n",
       "    <tr>\n",
       "      <th>594</th>\n",
       "      <td>Alomomola</td>\n",
       "      <td>1.0</td>\n",
       "      <td>Water</td>\n",
       "      <td>5.0</td>\n",
       "      <td>Alomomola</td>\n",
       "    </tr>\n",
       "    <tr>\n",
       "      <th>790</th>\n",
       "      <td>Cosmoem</td>\n",
       "      <td>1.0</td>\n",
       "      <td>Psychic</td>\n",
       "      <td>7.0</td>\n",
       "      <td>Cosmog</td>\n",
       "    </tr>\n",
       "    <tr>\n",
       "      <th>343</th>\n",
       "      <td>Baltoy</td>\n",
       "      <td>1.0</td>\n",
       "      <td>Ground Psychic</td>\n",
       "      <td>3.0</td>\n",
       "      <td>Baltoy</td>\n",
       "    </tr>\n",
       "    <tr>\n",
       "      <th>451</th>\n",
       "      <td>Skorupi</td>\n",
       "      <td>1.0</td>\n",
       "      <td>Poison Bug</td>\n",
       "      <td>4.0</td>\n",
       "      <td>Skorupi</td>\n",
       "    </tr>\n",
       "    <tr>\n",
       "      <th>732</th>\n",
       "      <td>Trumbeak</td>\n",
       "      <td>1.0</td>\n",
       "      <td>Normal Flying</td>\n",
       "      <td>7.0</td>\n",
       "      <td>Pikipek</td>\n",
       "    </tr>\n",
       "    <tr>\n",
       "      <th>102</th>\n",
       "      <td>Exeggcute</td>\n",
       "      <td>1.0</td>\n",
       "      <td>Grass Psychic</td>\n",
       "      <td>1.0</td>\n",
       "      <td>Exeggcute</td>\n",
       "    </tr>\n",
       "    <tr>\n",
       "      <th>504</th>\n",
       "      <td>Patrat</td>\n",
       "      <td>1.0</td>\n",
       "      <td>Normal</td>\n",
       "      <td>5.0</td>\n",
       "      <td>Patrat</td>\n",
       "    </tr>\n",
       "  </tbody>\n",
       "</table>\n",
       "</div>"
      ],
      "text/plain": [
       "          name  votes            type  generation     family\n",
       "540   Sewaddle    1.0       Bug Grass         5.0   Sewaddle\n",
       "594  Alomomola    1.0           Water         5.0  Alomomola\n",
       "790    Cosmoem    1.0         Psychic         7.0     Cosmog\n",
       "343     Baltoy    1.0  Ground Psychic         3.0     Baltoy\n",
       "451    Skorupi    1.0      Poison Bug         4.0    Skorupi\n",
       "732   Trumbeak    1.0   Normal Flying         7.0    Pikipek\n",
       "102  Exeggcute    1.0   Grass Psychic         1.0  Exeggcute\n",
       "504     Patrat    1.0          Normal         5.0     Patrat"
      ]
     },
     "execution_count": 15,
     "metadata": {},
     "output_type": "execute_result"
    }
   ],
   "source": [
    "df_sorted.query('votes == 1')"
   ]
  },
  {
   "cell_type": "markdown",
   "metadata": {},
   "source": [
    "The bottom 10 (least popular) Pok&eacute;mon *families*:"
   ]
  },
  {
   "cell_type": "code",
   "execution_count": 16,
   "metadata": {},
   "outputs": [
    {
     "data": {
      "text/html": [
       "<div>\n",
       "<style scoped>\n",
       "    .dataframe tbody tr th:only-of-type {\n",
       "        vertical-align: middle;\n",
       "    }\n",
       "\n",
       "    .dataframe tbody tr th {\n",
       "        vertical-align: top;\n",
       "    }\n",
       "\n",
       "    .dataframe thead th {\n",
       "        text-align: right;\n",
       "    }\n",
       "</style>\n",
       "<table border=\"1\" class=\"dataframe\">\n",
       "  <thead>\n",
       "    <tr style=\"text-align: right;\">\n",
       "      <th></th>\n",
       "      <th>votes</th>\n",
       "    </tr>\n",
       "    <tr>\n",
       "      <th>family</th>\n",
       "      <th></th>\n",
       "    </tr>\n",
       "  </thead>\n",
       "  <tbody>\n",
       "    <tr>\n",
       "      <th>Virizion</th>\n",
       "      <td>4.0</td>\n",
       "    </tr>\n",
       "    <tr>\n",
       "      <th>Thundurus</th>\n",
       "      <td>4.0</td>\n",
       "    </tr>\n",
       "    <tr>\n",
       "      <th>Uxie</th>\n",
       "      <td>3.0</td>\n",
       "    </tr>\n",
       "    <tr>\n",
       "      <th>Terrakion</th>\n",
       "      <td>3.0</td>\n",
       "    </tr>\n",
       "    <tr>\n",
       "      <th>Tapu-Bulu</th>\n",
       "      <td>2.0</td>\n",
       "    </tr>\n",
       "    <tr>\n",
       "      <th>Tapu-Fini</th>\n",
       "      <td>2.0</td>\n",
       "    </tr>\n",
       "    <tr>\n",
       "      <th>Phione</th>\n",
       "      <td>2.0</td>\n",
       "    </tr>\n",
       "    <tr>\n",
       "      <th>Tornadus</th>\n",
       "      <td>2.0</td>\n",
       "    </tr>\n",
       "    <tr>\n",
       "      <th>Landorus</th>\n",
       "      <td>2.0</td>\n",
       "    </tr>\n",
       "    <tr>\n",
       "      <th>Alomomola</th>\n",
       "      <td>1.0</td>\n",
       "    </tr>\n",
       "  </tbody>\n",
       "</table>\n",
       "</div>"
      ],
      "text/plain": [
       "           votes\n",
       "family          \n",
       "Virizion     4.0\n",
       "Thundurus    4.0\n",
       "Uxie         3.0\n",
       "Terrakion    3.0\n",
       "Tapu-Bulu    2.0\n",
       "Tapu-Fini    2.0\n",
       "Phione       2.0\n",
       "Tornadus     2.0\n",
       "Landorus     2.0\n",
       "Alomomola    1.0"
      ]
     },
     "execution_count": 16,
     "metadata": {},
     "output_type": "execute_result"
    }
   ],
   "source": [
    "df[['votes', 'family']].groupby('family').sum().sort_values('votes', ascending=False).tail(10)\n",
    "\n",
    "# Notice that a similar result could be achieved by using\n",
    "# df[['votes', 'family']].groupby('family').sum().sort_values('votes', ascending=True).head(10)"
   ]
  },
  {
   "cell_type": "markdown",
   "metadata": {},
   "source": [
    "The most popular Pok&eacute;mon by generation:"
   ]
  },
  {
   "cell_type": "code",
   "execution_count": 17,
   "metadata": {},
   "outputs": [
    {
     "data": {
      "text/html": [
       "<div>\n",
       "<style scoped>\n",
       "    .dataframe tbody tr th:only-of-type {\n",
       "        vertical-align: middle;\n",
       "    }\n",
       "\n",
       "    .dataframe tbody tr th {\n",
       "        vertical-align: top;\n",
       "    }\n",
       "\n",
       "    .dataframe thead th {\n",
       "        text-align: right;\n",
       "    }\n",
       "</style>\n",
       "<table border=\"1\" class=\"dataframe\">\n",
       "  <thead>\n",
       "    <tr style=\"text-align: right;\">\n",
       "      <th></th>\n",
       "      <th>name</th>\n",
       "      <th>votes</th>\n",
       "      <th>type</th>\n",
       "      <th>generation</th>\n",
       "      <th>family</th>\n",
       "    </tr>\n",
       "  </thead>\n",
       "  <tbody>\n",
       "    <tr>\n",
       "      <th>6</th>\n",
       "      <td>Charizard</td>\n",
       "      <td>1107.0</td>\n",
       "      <td>Fire Flying Dragon</td>\n",
       "      <td>1.0</td>\n",
       "      <td>Charmander</td>\n",
       "    </tr>\n",
       "    <tr>\n",
       "      <th>197</th>\n",
       "      <td>Umbreon</td>\n",
       "      <td>607.0</td>\n",
       "      <td>Dark</td>\n",
       "      <td>2.0</td>\n",
       "      <td>Eevee</td>\n",
       "    </tr>\n",
       "    <tr>\n",
       "      <th>257</th>\n",
       "      <td>Blaziken</td>\n",
       "      <td>613.0</td>\n",
       "      <td>Fire Fighting</td>\n",
       "      <td>3.0</td>\n",
       "      <td>Torchic</td>\n",
       "    </tr>\n",
       "    <tr>\n",
       "      <th>448</th>\n",
       "      <td>Lucario</td>\n",
       "      <td>604.0</td>\n",
       "      <td>Fighting Steel</td>\n",
       "      <td>4.0</td>\n",
       "      <td>Riolu</td>\n",
       "    </tr>\n",
       "    <tr>\n",
       "      <th>637</th>\n",
       "      <td>Volcarona</td>\n",
       "      <td>290.0</td>\n",
       "      <td>Bug Fire</td>\n",
       "      <td>5.0</td>\n",
       "      <td>Larvesta</td>\n",
       "    </tr>\n",
       "    <tr>\n",
       "      <th>700</th>\n",
       "      <td>Sylveon</td>\n",
       "      <td>282.0</td>\n",
       "      <td>Fairy</td>\n",
       "      <td>6.0</td>\n",
       "      <td>Eevee</td>\n",
       "    </tr>\n",
       "    <tr>\n",
       "      <th>778</th>\n",
       "      <td>Mimikyu</td>\n",
       "      <td>284.0</td>\n",
       "      <td>Ghost Fairy</td>\n",
       "      <td>7.0</td>\n",
       "      <td>Mimikyu</td>\n",
       "    </tr>\n",
       "  </tbody>\n",
       "</table>\n",
       "</div>"
      ],
      "text/plain": [
       "          name   votes                type  generation      family\n",
       "6    Charizard  1107.0  Fire Flying Dragon         1.0  Charmander\n",
       "197    Umbreon   607.0                Dark         2.0       Eevee\n",
       "257   Blaziken   613.0       Fire Fighting         3.0     Torchic\n",
       "448    Lucario   604.0      Fighting Steel         4.0       Riolu\n",
       "637  Volcarona   290.0            Bug Fire         5.0    Larvesta\n",
       "700    Sylveon   282.0               Fairy         6.0       Eevee\n",
       "778    Mimikyu   284.0         Ghost Fairy         7.0     Mimikyu"
      ]
     },
     "execution_count": 17,
     "metadata": {},
     "output_type": "execute_result"
    }
   ],
   "source": [
    "idx = df.groupby('generation')['votes'].transform(max) == df['votes']\n",
    "df[idx]"
   ]
  },
  {
   "cell_type": "markdown",
   "metadata": {},
   "source": [
    "### Paretto analysis\n",
    "`mamamia1001` also generated a plot of the [Paretto principle](https://en.wikipedia.org/wiki/Pareto_principle) (also known as the 80/20 rule). Originally, it states that roughly 80% of the effects (in this case, votes) come from 20% of the causes (in this case, Pok&eacute;mon). Let's obtain such plot. \n",
    "\n",
    "First, let's compute the cumulative sum of votes and their corresponding vote percentage for each Pok&eacute;mon:"
   ]
  },
  {
   "cell_type": "code",
   "execution_count": 18,
   "metadata": {},
   "outputs": [],
   "source": [
    "df_sorted['votes_cumulative'] = df_sorted['votes'].cumsum()\n",
    "df_sorted['votes_cumulative_perc'] = (df_sorted['votes_cumulative']/n_votes) * 100"
   ]
  },
  {
   "cell_type": "markdown",
   "metadata": {},
   "source": [
    "We just need to generate a few auxiliary variables to generate the plot:"
   ]
  },
  {
   "cell_type": "code",
   "execution_count": 19,
   "metadata": {},
   "outputs": [],
   "source": [
    "df_sorted['pokemon_perc'] = (np.arange(1, n_pokemon+1)/n_pokemon)*100\n",
    "\n",
    "# Find the index of the Pokemon corresponding to the 20% of the Pokemon.\n",
    "index_pokemon_20 = abs(df_sorted['pokemon_perc'] - 20).idxmin()\n",
    "\n",
    "# Find the index and value of the Pokemon corresponding to the 80% of the votes.\n",
    "pokemon_votes_80_idx = abs(df_sorted['votes_cumulative_perc'] - 80).idxmin()\n",
    "pokemon_votes_80 = df_sorted.loc[pokemon_votes_80_idx, 'pokemon_perc']\n",
    "\n",
    "# Find the index and value of the votes corresponding to the 20% of the Pokemon\n",
    "votes_pokemon_20_idx = abs(df_sorted['pokemon_perc'] - 20).idxmin()\n",
    "votes_pokemon_20 = df_sorted.loc[votes_pokemon_20_idx, 'votes_cumulative_perc']\n",
    "\n",
    "# Find the index of the votes corresponding to the 80% of the votes.\n",
    "index_votes_80 = abs(df_sorted['votes_cumulative_perc'] - 80).idxmin()\n"
   ]
  },
  {
   "cell_type": "markdown",
   "metadata": {},
   "source": [
    "Actually generate the Paretto plot:"
   ]
  },
  {
   "cell_type": "code",
   "execution_count": 35,
   "metadata": {},
   "outputs": [
    {
     "data": {
      "text/plain": [
       "Text(0,0.5,'Vote %')"
      ]
     },
     "execution_count": 35,
     "metadata": {},
     "output_type": "execute_result"
    },
    {
     "data": {
      "image/png": "[encoded data removed]",
      "text/plain": [
       "<matplotlib.figure.Figure at 0x2536d422780>"
      ]
     },
     "metadata": {},
     "output_type": "display_data"
    }
   ],
   "source": [
    "fig, ax = plt.subplots(1, 1, figsize=[6, 6])\n",
    "ax.plot(df_sorted['pokemon_perc'], df_sorted['votes_cumulative_perc'], linewidth=5)\n",
    "\n",
    "plt.hlines(80, 0, pokemon_votes_80, linewidth=3, linestyles='dashed', colors=[0.6, 0.6, 0.6])\n",
    "plt.hlines(votes_pokemon_20, 0, df_sorted.loc[index_pokemon_20, 'pokemon_perc'], linewidth=3, linestyles='dashed', colors=[0.6, 0.6, 0.6])\n",
    "\n",
    "plt.vlines(20, 0, df_sorted.loc[index_pokemon_20, 'votes_cumulative_perc'], linewidth=3, linestyles='dashed', colors=[0.6, 0.6, 0.6])\n",
    "plt.vlines(df_sorted.loc[index_votes_80, 'pokemon_perc'], 0, df_sorted.loc[index_votes_80, 'votes_cumulative_perc'], linewidth=3, linestyles='dashed', colors=[0.6, 0.6, 0.6])\n",
    "\n",
    "plt.text(22, 20, r\"$\\leftarrow$ 20% of the Pokemon have ~{0:.0f}% of the votes\".format(votes_pokemon_20), backgroundcolor='w')\n",
    "plt.text(pokemon_votes_80+2, 60, r\"$\\leftarrow$ ~{0:.0f}% of the Pokemon have 80% of the votes\".format(pokemon_votes_80), backgroundcolor='w')\n",
    "\n",
    "ax.set_title(\"Paretto Plot\", fontdict = {'fontsize':16, 'fontweight':'bold'})\n",
    "ax.set_xlabel(\"Pokemon %\", fontdict = {'fontsize':16})\n",
    "ax.set_ylabel(\"Vote %\", fontdict = {'fontsize':16})\n",
    "\n",
    "plt.show()"
   ]
  },
  {
   "cell_type": "markdown",
   "metadata": {},
   "source": [
    "# New Analysis\n",
    "Alright, time to go to uncharted territory. "
   ]
  },
  {
   "cell_type": "markdown",
   "metadata": {},
   "source": [
    "# Analysis\n",
    "\n",
    "This is an interesting result. It looks like there is a strong love (nostalgia, perhaps?) for the first generations."
   ]
  }
 ],
 "metadata": {
  "kernelspec": {
   "display_name": "Python 3 (Spyder)",
   "language": "python3",
   "name": "python3"
  },
  "language_info": {
   "codemirror_mode": {
    "name": "ipython",
    "version": 3
   },
   "file_extension": ".py",
   "mimetype": "text/x-python",
   "name": "python",
   "nbconvert_exporter": "python",
   "pygments_lexer": "ipython3",
   "version": "3.6.8"
  }
 },
 "nbformat": 4,
 "nbformat_minor": 2
}
