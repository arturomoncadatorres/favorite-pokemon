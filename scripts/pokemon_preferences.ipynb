{
 "cells": [
  {
   "cell_type": "markdown",
   "metadata": {},
   "source": [
    "<img src=\"../images/pokeball.png\" width=\"100\" align=\"right\">\n",
    "\n",
    "# Visualization of the<br> Favorite Pok&eacute;mon Survey Results\n",
    "---\n",
    "In this notebook, I will generate different visualizations of the [Favorite Pok&eacute;mon Survey](<https://www.reddit.com/r/pokemon/comments/c04rvq/survey_testing_the_every_pok%C3%A9mon_is_someones/>) results. The data was collected and made public by [reddit user mamamia1001](https://www.reddit.com/user/mamamia1001/). Full credit goes to him/her. I am just making those numbers look a bit prettier. For more info, take a look at the [README file](../README.md). Let's get started.\n"
   ]
  },
  {
   "cell_type": "markdown",
   "metadata": {},
   "source": [
    "# Preliminaries\n",
    "First, let's import all the relevant packages, configure some plotting options, and define some basic (path) variables."
   ]
  },
  {
   "cell_type": "code",
   "execution_count": 77,
   "metadata": {},
   "outputs": [],
   "source": [
    "%matplotlib inline\n",
    "\n",
    "import pandas as pd\n",
    "import numpy as np\n",
    "import matplotlib as mpl\n",
    "import matplotlib.pyplot as plt\n",
    "import pathlib"
   ]
  },
  {
   "cell_type": "code",
   "execution_count": 78,
   "metadata": {},
   "outputs": [],
   "source": [
    "mpl.rcParams['font.sans-serif'] = \"Calibri\"\n",
    "mpl.rcParams['font.family'] = \"sans-serif\"\n",
    "#sns.set(font_scale=1.75)\n",
    "#sns.set_style('ticks')\n",
    "plt.rc('axes.spines', top=False, right=False)"
   ]
  },
  {
   "cell_type": "code",
   "execution_count": null,
   "metadata": {},
   "outputs": [],
   "source": [
    "# Define paths.\n",
    "PATH_DATA = pathlib.Path(r'../data')"
   ]
  },
  {
   "cell_type": "markdown",
   "metadata": {},
   "source": [
    "# Read data\n",
    "I [downloaded a copy](../data) of the [original results](https://docs.google.com/spreadsheets/d/1c16Wh4AawHGbTi3Eq1DGZQdM4FMUlJO1YwXJZ_ylRvg/edit#gid=557303698) as an Excel file. Let's read just the relevant parts:"
   ]
  },
  {
   "cell_type": "code",
   "execution_count": 62,
   "metadata": {},
   "outputs": [
    {
     "data": {
      "text/html": [
       "<div>\n",
       "<style scoped>\n",
       "    .dataframe tbody tr th:only-of-type {\n",
       "        vertical-align: middle;\n",
       "    }\n",
       "\n",
       "    .dataframe tbody tr th {\n",
       "        vertical-align: top;\n",
       "    }\n",
       "\n",
       "    .dataframe thead th {\n",
       "        text-align: right;\n",
       "    }\n",
       "</style>\n",
       "<table border=\"1\" class=\"dataframe\">\n",
       "  <thead>\n",
       "    <tr style=\"text-align: right;\">\n",
       "      <th></th>\n",
       "      <th>timestamp</th>\n",
       "      <th>vote</th>\n",
       "    </tr>\n",
       "  </thead>\n",
       "  <tbody>\n",
       "    <tr>\n",
       "      <th>0</th>\n",
       "      <td>2019-06-13 13:02:02.242</td>\n",
       "      <td>Munchlax</td>\n",
       "    </tr>\n",
       "    <tr>\n",
       "      <th>1</th>\n",
       "      <td>2019-06-13 12:44:00.726</td>\n",
       "      <td>Type-Null</td>\n",
       "    </tr>\n",
       "    <tr>\n",
       "      <th>2</th>\n",
       "      <td>2019-06-13 12:44:45.607</td>\n",
       "      <td>Giratina</td>\n",
       "    </tr>\n",
       "  </tbody>\n",
       "</table>\n",
       "</div>"
      ],
      "text/plain": [
       "                timestamp       vote\n",
       "0 2019-06-13 13:02:02.242   Munchlax\n",
       "1 2019-06-13 12:44:00.726  Type-Null\n",
       "2 2019-06-13 12:44:45.607   Giratina"
      ]
     },
     "execution_count": 62,
     "metadata": {},
     "output_type": "execute_result"
    }
   ],
   "source": [
    "df_raw = pd.read_excel(PATH_DATA/'responses.xlsx', sheet_name='Form Responses 1')\n",
    "df_raw.rename(columns={'Timestamp':'timestamp', 'What is your favourite Pokémon?':'vote'}, inplace=True)\n",
    "\n",
    "# Remove any potential NaN.\n",
    "df_raw.dropna(inplace=True)\n",
    "\n",
    "df_raw.head(3)"
   ]
  },
  {
   "cell_type": "code",
   "execution_count": 63,
   "metadata": {},
   "outputs": [
    {
     "data": {
      "text/html": [
       "<div>\n",
       "<style scoped>\n",
       "    .dataframe tbody tr th:only-of-type {\n",
       "        vertical-align: middle;\n",
       "    }\n",
       "\n",
       "    .dataframe tbody tr th {\n",
       "        vertical-align: top;\n",
       "    }\n",
       "\n",
       "    .dataframe thead th {\n",
       "        text-align: right;\n",
       "    }\n",
       "</style>\n",
       "<table border=\"1\" class=\"dataframe\">\n",
       "  <thead>\n",
       "    <tr style=\"text-align: right;\">\n",
       "      <th></th>\n",
       "      <th>name</th>\n",
       "      <th>votes</th>\n",
       "    </tr>\n",
       "  </thead>\n",
       "  <tbody>\n",
       "    <tr>\n",
       "      <th>0</th>\n",
       "      <td>Bulbasaur</td>\n",
       "      <td>710.0</td>\n",
       "    </tr>\n",
       "    <tr>\n",
       "      <th>1</th>\n",
       "      <td>Ivysaur</td>\n",
       "      <td>83.0</td>\n",
       "    </tr>\n",
       "    <tr>\n",
       "      <th>2</th>\n",
       "      <td>Venusaur</td>\n",
       "      <td>127.0</td>\n",
       "    </tr>\n",
       "  </tbody>\n",
       "</table>\n",
       "</div>"
      ],
      "text/plain": [
       "        name  votes\n",
       "0  Bulbasaur  710.0\n",
       "1    Ivysaur   83.0\n",
       "2   Venusaur  127.0"
      ]
     },
     "execution_count": 63,
     "metadata": {},
     "output_type": "execute_result"
    }
   ],
   "source": [
    "df = pd.read_excel(PATH_DATA/'responses.xlsx', sheet_name='Results', usecols='A:B')\n",
    "df.rename(columns={'Results in full':'name', 'Unnamed: 1':'votes'}, inplace=True)\n",
    "\n",
    "# Remove any potential NaN.\n",
    "df.dropna(inplace=True)\n",
    "\n",
    "df.head(3)"
   ]
  },
  {
   "cell_type": "markdown",
   "metadata": {},
   "source": [
    "# Original Results\n",
    "As a sanity check, let's (re)compute the already reported numbers.\n",
    "\n",
    "#### Number of valid votes\n",
    "Original result: 52725\n",
    "\n",
    "From the raw results:"
   ]
  },
  {
   "cell_type": "code",
   "execution_count": 65,
   "metadata": {},
   "outputs": [
    {
     "name": "stdout",
     "output_type": "stream",
     "text": [
      "52725\n"
     ]
    }
   ],
   "source": [
    "n_votes = len(df_raw)\n",
    "print(n_votes)"
   ]
  },
  {
   "cell_type": "markdown",
   "metadata": {},
   "source": [
    "From the aggregated results:"
   ]
  },
  {
   "cell_type": "code",
   "execution_count": 66,
   "metadata": {},
   "outputs": [
    {
     "name": "stdout",
     "output_type": "stream",
     "text": [
      "52725.0\n"
     ]
    }
   ],
   "source": [
    "n_votes = df['votes'].sum()\n",
    "print(n_votes)"
   ]
  },
  {
   "cell_type": "markdown",
   "metadata": {},
   "source": [
    "#### Average votes per Pok&eacute;mon\n",
    "Original result: 65"
   ]
  },
  {
   "cell_type": "code",
   "execution_count": 172,
   "metadata": {},
   "outputs": [
    {
     "name": "stdout",
     "output_type": "stream",
     "text": [
      "65.17305315203956\n"
     ]
    }
   ],
   "source": [
    "n_pokemon = len(df['name'].unique())\n",
    "print(n_votes/n_pokemon)"
   ]
  },
  {
   "cell_type": "markdown",
   "metadata": {},
   "source": [
    "#### Paretto analysis\n",
    "`mamamia1001` also generated a plot of the [Paretto principle](https://en.wikipedia.org/wiki/Pareto_principle) (also known as the 80/20 rule). Originally, it states that roughly 80% of the effects (in this case, votes) come from 20% of the causes (in this case, Pok&eacute;mon). Let's obtain such plot.\n",
    "\n",
    "First, we sort the Pok&eacute;mon from most to least popular (we need to do so later on, anyhow):"
   ]
  },
  {
   "cell_type": "code",
   "execution_count": 67,
   "metadata": {},
   "outputs": [],
   "source": [
    "df_sorted = df.sort_values('votes', ascending=False)"
   ]
  },
  {
   "cell_type": "markdown",
   "metadata": {},
   "source": [
    "Now, let's compute the cumulative sum of votes and their corresponding vote percentage for each Pok&eacute;mon:"
   ]
  },
  {
   "cell_type": "code",
   "execution_count": 68,
   "metadata": {},
   "outputs": [],
   "source": [
    "df_sorted['votes_cumulative'] = df_sorted['votes'].cumsum()\n",
    "df_sorted['votes_cumulative_perc'] = (df_sorted['votes_cumulative']/n_votes) * 100"
   ]
  },
  {
   "cell_type": "markdown",
   "metadata": {},
   "source": [
    "We just need to generate a few auxiliary variables to generate the plot:"
   ]
  },
  {
   "cell_type": "code",
   "execution_count": 164,
   "metadata": {},
   "outputs": [],
   "source": [
    "df_sorted['pokemon_perc'] = (np.arange(1, n_pokemon+1)/n_pokemon)*100\n",
    "\n",
    "# Find the index of the Pokemon corresponding to the 20% of the Pokemon.\n",
    "index_pokemon_20 = abs(df_sorted['pokemon_perc'] - 20).idxmin()\n",
    "\n",
    "# Find the index and value of the Pokemon corresponding to the 80% of the votes.\n",
    "pokemon_votes_80_idx = abs(df_sorted['votes_cumulative_perc'] - 80).idxmin()\n",
    "pokemon_votes_80 = df_sorted.loc[pokemon_votes_80_idx, 'pokemon_perc']\n",
    "\n",
    "# Find the index and value of the votes corresponding to the 20% of the Pokemon\n",
    "votes_pokemon_20_idx = abs(df_sorted['pokemon_perc'] - 20).idxmin()\n",
    "votes_pokemon_20 = df_sorted.loc[votes_pokemon_20_idx, 'votes_cumulative_perc']\n",
    "\n",
    "# Find the index of the votes corresponding to the 80% of the votes.\n",
    "index_votes_80 = abs(df_sorted['votes_cumulative_perc'] - 80).idxmin()\n"
   ]
  },
  {
   "cell_type": "markdown",
   "metadata": {},
   "source": [
    "Actually generate the Paretto plot:"
   ]
  },
  {
   "cell_type": "code",
   "execution_count": 171,
   "metadata": {},
   "outputs": [
    {
     "data": {
      "text/plain": [
       "Text(0,0.5,'Vote %')"
      ]
     },
     "execution_count": 171,
     "metadata": {},
     "output_type": "execute_result"
    },
    {
     "data": {
      "image/png": "[encoded data removed]",
      "text/plain": [
       "<matplotlib.figure.Figure at 0x226802b2908>"
      ]
     },
     "metadata": {},
     "output_type": "display_data"
    }
   ],
   "source": [
    "fig, ax = plt.subplots(1, 1, figsize=[6, 6])\n",
    "ax.plot(df_sorted['pokemon_perc'], df_sorted['votes_cumulative_perc'], linewidth=5)\n",
    "\n",
    "plt.hlines(80, 0, pokemon_votes_80, linewidth=3, linestyles='dashed', colors=[0.6, 0.6, 0.6])\n",
    "plt.hlines(votes_pokemon_20, 0, df_sorted.loc[index_pokemon_20, 'pokemon_perc'], linewidth=3, linestyles='dashed', colors=[0.6, 0.6, 0.6])\n",
    "\n",
    "plt.vlines(20, 0, df_sorted.loc[index_pokemon_20, 'votes_cumulative_perc'], linewidth=3, linestyles='dashed', colors=[0.6, 0.6, 0.6])\n",
    "plt.vlines(df_sorted.loc[index_votes_80, 'pokemon_perc'], 0, df_sorted.loc[index_pokemon_80, 'votes_cumulative_perc'], linewidth=3, linestyles='dashed', colors=[0.6, 0.6, 0.6])\n",
    "\n",
    "plt.text(22, 20, r\"$\\leftarrow$ 20% of the Pokemon have ~{0:.0f}% of the votes\".format(votes_pokemon_20), backgroundcolor='w')\n",
    "plt.text(pokemon_votes_80+2, 60, r\"$\\leftarrow$ ~{0:.0f}% of the Pokemon have 80% of the votes\".format(pokemon_votes_80), backgroundcolor='w')\n",
    "\n",
    "ax.set_title(\"Paretto Plot\", fontweight='bold')\n",
    "ax.set_xlabel(\"Pokemon %\")\n",
    "ax.set_ylabel(\"Vote %\")"
   ]
  },
  {
   "cell_type": "markdown",
   "metadata": {},
   "source": [
    "# Additional Visualizations\n",
    "Alright, time to go to uncharted territory. "
   ]
  }
 ],
 "metadata": {
  "kernelspec": {
   "display_name": "Python 3 (Spyder)",
   "language": "python3",
   "name": "python3"
  },
  "language_info": {
   "codemirror_mode": {
    "name": "ipython",
    "version": 3
   },
   "file_extension": ".py",
   "mimetype": "text/x-python",
   "name": "python",
   "nbconvert_exporter": "python",
   "pygments_lexer": "ipython3",
   "version": "3.6.8"
  }
 },
 "nbformat": 4,
 "nbformat_minor": 2
}
