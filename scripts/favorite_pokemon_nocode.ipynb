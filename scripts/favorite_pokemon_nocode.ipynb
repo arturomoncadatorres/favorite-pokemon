{
 "cells": [
  {
   "cell_type": "markdown",
   "metadata": {},
   "source": [
    "<img src=\"../images/pokeball.png\" width=\"100\" align=\"right\">\n",
    "\n",
    "# Visualization of the<br> Favorite Pok&eacute;mon Survey Results\n",
    "---\n",
    "In this notebook, I will generate different visualizations of the [Favorite Pok&eacute;mon Survey](<https://www.reddit.com/r/pokemon/comments/c04rvq/survey_testing_the_every_pok%C3%A9mon_is_someones/>) results. The data was collected and made public by [reddit user mamamia1001](https://www.reddit.com/user/mamamia1001/). Full credit goes to him/her. I will also be including a few comments on the results and how I interpret them. If you want a more insightful version (i.e., including the code to generate the plots), [you can find it here](./favorite_pokemon.ipynb). For more info, take a look at the [README file](../README.md). \n",
    "\n",
    "Alright, let's get started.\n"
   ]
  },
  {
   "cell_type": "markdown",
   "metadata": {},
   "source": [
    "### Votes for each generation\n",
    "\n",
    "First, let's take a look at the number of votes that each generation got. We can start by looking at the average:\n",
    "\n",
    "<img src=\"../images/generation_average.png\" width=\"350\" align=\"center\">\n",
    "\n",
    "We can get a better insight by looking at the boxplot. The horizontal line of each box represents the median. The diamonds represent the outliers. In other words, the diamonds represent Pok&eacute;mon with a high number of votes. As we will see in a second, it is clear that no Pok&eacute;mon from generations 5, 6, or 7 cracks the top preference spots.\n",
    "\n",
    "<img src=\"../images/generation_boxplot.png\" width=\"500\" align=\"center\">\n",
    "\n",
    "It is clear that there were more votes for Pok&eacute;mon from earlier generations. This is a very interesting result. Does nostalgia play an important role here? It is hard to say. It would be very interesting to have more information on the voters' profile (e.g., age). For instance, older fans could have more preference for Pok&eacute;mon with which they grew up with. Unfortunately, we don't have those data."
   ]
  },
  {
   "cell_type": "markdown",
   "metadata": {},
   "source": [
    "### Pok&eacute;mon ranking\n",
    "This is probably the plot which most people want to see. Which are the most popular Pok&eacute;mon?\n",
    "\n",
    "<img src=\"../images/popular.png\" width=\"500\" align=\"center\">\n",
    "\n",
    "Now we know who were those outliers from earlier ;) . We can also see which Pok&eacute;mon *families* are the most popular:\n",
    "\n",
    "<img src=\"../images/popular_family.png\" width=\"500\" align=\"center\">\n",
    "\n",
    "I suppose it is no surprise that the Eevee family is the most popular given that [Eevee is the Pokemon with the most evolutions](https://bulbapedia.bulbagarden.net/wiki/Eeveelution) (plus, let's face it, most of them are quite cool).\n",
    "\n",
    "#### Pok&eacute;mon ranking by generation\n",
    "We can also take a look at the most popular Pok&eacute;mon of each generation:\n",
    "\n",
    "<img src=\"../images/all_generations.png\" width=\"500\" align=\"center\">\n",
    "\n",
    "...as well as the top voted Pok&eacute;mon of each generation:\n",
    "\n",
    "<img src=\"../images/generation1.png\" width=\"500\" align=\"center\">\n",
    "<img src=\"../images/generation2.png\" width=\"500\" align=\"center\">\n",
    "<img src=\"../images/generation3.png\" width=\"500\" align=\"center\">\n",
    "<img src=\"../images/generation4.png\" width=\"500\" align=\"center\">\n",
    "<img src=\"../images/generation5.png\" width=\"500\" align=\"center\">\n",
    "<img src=\"../images/generation6.png\" width=\"500\" align=\"center\">\n",
    "<img src=\"../images/generation7.png\" width=\"500\" align=\"center\">\n",
    "\n"
   ]
  },
  {
   "cell_type": "markdown",
   "metadata": {},
   "source": [
    "#### Pok&eacute;mon ranking by type\n",
    "We can also see Pok&eacute;mon preference based on their type. Although Pok&eacute;mon can have several types, for this section we are considering only the main (i.e., first) type of each Pok&eacute;mon. \n",
    "\n",
    "<img src=\"../images/type_boxplot.png\" width=\"500\" align=\"center\">\n",
    "\n",
    "We can also take a look at the ranking per type. In this case, all types of a Pok&eacute;mon were considered (e.g., Charizard is a fire and flying Pok&eacute;mon, plus one of its megaevolutions has dragon type as well). We might also find some surprises. However, remember that Alolan versions might have different types for the same Pok&eacute;mon (e.g., Vulpix is fire type, while Alolan Vulpix is ice).\n",
    "\n",
    "<img src=\"../images/fire.png\" width=\"500\" align=\"center\">\n",
    "<img src=\"../images/ghost.png\" width=\"500\" align=\"center\">\n",
    "<img src=\"../images/poison.png\" width=\"500\" align=\"center\">\n",
    "<img src=\"../images/dark.png\" width=\"500\" align=\"center\">\n",
    "<img src=\"../images/fighting.png\" width=\"500\" align=\"center\">\n",
    "<img src=\"../images/psychic.png\" width=\"500\" align=\"center\">\n",
    "<img src=\"../images/normal.png\" width=\"500\" align=\"center\">\n",
    "<img src=\"../images/dragon.png\" width=\"500\" align=\"center\">\n",
    "<img src=\"../images/electric.png\" width=\"500\" align=\"center\">\n",
    "<img src=\"../images/water.png\" width=\"500\" align=\"center\">\n",
    "<img src=\"../images/ground.png\" width=\"500\" align=\"center\">\n",
    "<img src=\"../images/bug.png\" width=\"500\" align=\"center\">\n",
    "<img src=\"../images/steel.png\" width=\"500\" align=\"center\">\n",
    "<img src=\"../images/rock.png\" width=\"500\" align=\"center\">\n",
    "<img src=\"../images/fairy.png\" width=\"500\" align=\"center\">\n",
    "<img src=\"../images/ice.png\" width=\"500\" align=\"center\">\n",
    "<img src=\"../images/grass.png\" width=\"500\" align=\"center\">\n",
    "<img src=\"../images/flying.png\" width=\"500\" align=\"center\">"
   ]
  },
  {
   "cell_type": "markdown",
   "metadata": {},
   "source": [
    "### Paretto analysis\n",
    "`mamamia1001` also generated a plot of the [Paretto principle](https://en.wikipedia.org/wiki/Pareto_principle) (also known as the 80/20 rule). Originally, it states that roughly 80% of the effects (in this case, votes) come from 20% of the causes (in this case, Pok&eacute;mon). In this case, the Paretto plot looks like this:\n",
    "\n",
    "<img src=\"../images/paretto.png\" width=\"500\" align=\"center\">\n",
    "\n",
    "It looks like the Paretto principle kinda works in this case: 20% of the Pok&eacute;mon received ~72% of the votes."
   ]
  },
  {
   "cell_type": "markdown",
   "metadata": {},
   "source": [
    "### Votes in time\n",
    "\n",
    "Finally, we can see how people voted in time overall and for each of the top Pok&eacute;mon:\n",
    "\n",
    "<img src=\"../images/time_all.png\" width=\"800\" align=\"center\">\n",
    "\n",
    "There is a very interesting spike in the number of votes which then drops dramatically. I was curious about this. I contacted `mamamia1001` and (s)he believes that the first surge was caused when the post was featured in reddit's front page (r/all). The huge decrease was probably because on the day the survey was posted, reddit had issues and it temporarily lost lots of upvotes around that time. This could, of course, bring some bias to the data... but there's very little we can do about that.\n",
    "\n",
    "We can also see how each of the top Pok&eacute;mon were voted in time:\n",
    "\n",
    "<img src=\"../images/time_charizard.png\" width=\"800\" align=\"center\">\n",
    "<img src=\"../images/time_gengar.png\" width=\"800\" align=\"center\">\n",
    "<img src=\"../images/time_arcanine.png\" width=\"800\" align=\"center\">\n",
    "<img src=\"../images/time_bulbasaur.png\" width=\"800\" align=\"center\">\n",
    "<img src=\"../images/time_blaziken.png\" width=\"800\" align=\"center\">\n",
    "<img src=\"../images/time_umbreon.png\" width=\"800\" align=\"center\">\n",
    "<img src=\"../images/time_lucario.png\" width=\"800\" align=\"center\">\n",
    "<img src=\"../images/time_gardevoir.png\" width=\"800\" align=\"center\">\n",
    "<img src=\"../images/time_eevee.png\" width=\"800\" align=\"center\">\n",
    "<img src=\"../images/time_dragonite.png\" width=\"800\" align=\"center\">\n",
    "\n",
    "It looks like votes for each of the top Pok&eacute;mon were more or less cast in the same way."
   ]
  }
 ],
 "metadata": {
  "kernelspec": {
   "display_name": "Python 3 (Spyder)",
   "language": "python3",
   "name": "python3"
  },
  "language_info": {
   "codemirror_mode": {
    "name": "ipython",
    "version": 3
   },
   "file_extension": ".py",
   "mimetype": "text/x-python",
   "name": "python",
   "nbconvert_exporter": "python",
   "pygments_lexer": "ipython3",
   "version": "3.7.3"
  }
 },
 "nbformat": 4,
 "nbformat_minor": 2
}
